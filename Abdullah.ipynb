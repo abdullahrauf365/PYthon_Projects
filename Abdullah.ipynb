{
  "cells": [
    {
      "cell_type": "code",
      "execution_count": 53,
      "metadata": {
        "id": "Vi64weaR1kjZ"
      },
      "outputs": [],
      "source": [
        "import tensorflow as tf\n",
        "import numpy as np\n",
        "import pandas as pd\n",
        "\n"
      ]
    },
    {
      "cell_type": "code",
      "source": [
        "data=pd.read_csv(\"/content/sample_data/diabetes2.csv\",header=None)"
      ],
      "metadata": {
        "id": "_gCtGCq33xgg"
      },
      "execution_count": 54,
      "outputs": []
    },
    {
      "cell_type": "code",
      "source": [
        "\n",
        "data.info()"
      ],
      "metadata": {
        "colab": {
          "base_uri": "https://localhost:8080/"
        },
        "id": "SycxXPIO301A",
        "outputId": "58ed7a7c-c96a-444c-bf61-96a78e56fa20"
      },
      "execution_count": 55,
      "outputs": [
        {
          "output_type": "stream",
          "name": "stdout",
          "text": [
            "<class 'pandas.core.frame.DataFrame'>\n",
            "RangeIndex: 768 entries, 0 to 767\n",
            "Data columns (total 9 columns):\n",
            " #   Column  Non-Null Count  Dtype  \n",
            "---  ------  --------------  -----  \n",
            " 0   0       768 non-null    int64  \n",
            " 1   1       768 non-null    int64  \n",
            " 2   2       768 non-null    int64  \n",
            " 3   3       768 non-null    int64  \n",
            " 4   4       768 non-null    int64  \n",
            " 5   5       768 non-null    float64\n",
            " 6   6       768 non-null    float64\n",
            " 7   7       768 non-null    int64  \n",
            " 8   8       768 non-null    int64  \n",
            "dtypes: float64(2), int64(7)\n",
            "memory usage: 54.1 KB\n"
          ]
        }
      ]
    },
    {
      "cell_type": "code",
      "source": [
        "\n",
        "data.describe()"
      ],
      "metadata": {
        "colab": {
          "base_uri": "https://localhost:8080/",
          "height": 300
        },
        "id": "SWS3kK0735rH",
        "outputId": "153f06c1-3be0-4a89-cca6-bc2ec7aef51b"
      },
      "execution_count": 56,
      "outputs": [
        {
          "output_type": "execute_result",
          "data": {
            "text/plain": [
              "                0           1           2           3           4           5  \\\n",
              "count  768.000000  768.000000  768.000000  768.000000  768.000000  768.000000   \n",
              "mean     3.845052  120.894531   69.105469   20.536458   79.799479   31.992578   \n",
              "std      3.369578   31.972618   19.355807   15.952218  115.244002    7.884160   \n",
              "min      0.000000    0.000000    0.000000    0.000000    0.000000    0.000000   \n",
              "25%      1.000000   99.000000   62.000000    0.000000    0.000000   27.300000   \n",
              "50%      3.000000  117.000000   72.000000   23.000000   30.500000   32.000000   \n",
              "75%      6.000000  140.250000   80.000000   32.000000  127.250000   36.600000   \n",
              "max     17.000000  199.000000  122.000000   99.000000  846.000000   67.100000   \n",
              "\n",
              "                6           7           8  \n",
              "count  768.000000  768.000000  768.000000  \n",
              "mean     0.471876   33.240885    0.348958  \n",
              "std      0.331329   11.760232    0.476951  \n",
              "min      0.078000   21.000000    0.000000  \n",
              "25%      0.243750   24.000000    0.000000  \n",
              "50%      0.372500   29.000000    0.000000  \n",
              "75%      0.626250   41.000000    1.000000  \n",
              "max      2.420000   81.000000    1.000000  "
            ],
            "text/html": [
              "\n",
              "  <div id=\"df-605defae-8764-4dcf-b65b-a21d5b648222\">\n",
              "    <div class=\"colab-df-container\">\n",
              "      <div>\n",
              "<style scoped>\n",
              "    .dataframe tbody tr th:only-of-type {\n",
              "        vertical-align: middle;\n",
              "    }\n",
              "\n",
              "    .dataframe tbody tr th {\n",
              "        vertical-align: top;\n",
              "    }\n",
              "\n",
              "    .dataframe thead th {\n",
              "        text-align: right;\n",
              "    }\n",
              "</style>\n",
              "<table border=\"1\" class=\"dataframe\">\n",
              "  <thead>\n",
              "    <tr style=\"text-align: right;\">\n",
              "      <th></th>\n",
              "      <th>0</th>\n",
              "      <th>1</th>\n",
              "      <th>2</th>\n",
              "      <th>3</th>\n",
              "      <th>4</th>\n",
              "      <th>5</th>\n",
              "      <th>6</th>\n",
              "      <th>7</th>\n",
              "      <th>8</th>\n",
              "    </tr>\n",
              "  </thead>\n",
              "  <tbody>\n",
              "    <tr>\n",
              "      <th>count</th>\n",
              "      <td>768.000000</td>\n",
              "      <td>768.000000</td>\n",
              "      <td>768.000000</td>\n",
              "      <td>768.000000</td>\n",
              "      <td>768.000000</td>\n",
              "      <td>768.000000</td>\n",
              "      <td>768.000000</td>\n",
              "      <td>768.000000</td>\n",
              "      <td>768.000000</td>\n",
              "    </tr>\n",
              "    <tr>\n",
              "      <th>mean</th>\n",
              "      <td>3.845052</td>\n",
              "      <td>120.894531</td>\n",
              "      <td>69.105469</td>\n",
              "      <td>20.536458</td>\n",
              "      <td>79.799479</td>\n",
              "      <td>31.992578</td>\n",
              "      <td>0.471876</td>\n",
              "      <td>33.240885</td>\n",
              "      <td>0.348958</td>\n",
              "    </tr>\n",
              "    <tr>\n",
              "      <th>std</th>\n",
              "      <td>3.369578</td>\n",
              "      <td>31.972618</td>\n",
              "      <td>19.355807</td>\n",
              "      <td>15.952218</td>\n",
              "      <td>115.244002</td>\n",
              "      <td>7.884160</td>\n",
              "      <td>0.331329</td>\n",
              "      <td>11.760232</td>\n",
              "      <td>0.476951</td>\n",
              "    </tr>\n",
              "    <tr>\n",
              "      <th>min</th>\n",
              "      <td>0.000000</td>\n",
              "      <td>0.000000</td>\n",
              "      <td>0.000000</td>\n",
              "      <td>0.000000</td>\n",
              "      <td>0.000000</td>\n",
              "      <td>0.000000</td>\n",
              "      <td>0.078000</td>\n",
              "      <td>21.000000</td>\n",
              "      <td>0.000000</td>\n",
              "    </tr>\n",
              "    <tr>\n",
              "      <th>25%</th>\n",
              "      <td>1.000000</td>\n",
              "      <td>99.000000</td>\n",
              "      <td>62.000000</td>\n",
              "      <td>0.000000</td>\n",
              "      <td>0.000000</td>\n",
              "      <td>27.300000</td>\n",
              "      <td>0.243750</td>\n",
              "      <td>24.000000</td>\n",
              "      <td>0.000000</td>\n",
              "    </tr>\n",
              "    <tr>\n",
              "      <th>50%</th>\n",
              "      <td>3.000000</td>\n",
              "      <td>117.000000</td>\n",
              "      <td>72.000000</td>\n",
              "      <td>23.000000</td>\n",
              "      <td>30.500000</td>\n",
              "      <td>32.000000</td>\n",
              "      <td>0.372500</td>\n",
              "      <td>29.000000</td>\n",
              "      <td>0.000000</td>\n",
              "    </tr>\n",
              "    <tr>\n",
              "      <th>75%</th>\n",
              "      <td>6.000000</td>\n",
              "      <td>140.250000</td>\n",
              "      <td>80.000000</td>\n",
              "      <td>32.000000</td>\n",
              "      <td>127.250000</td>\n",
              "      <td>36.600000</td>\n",
              "      <td>0.626250</td>\n",
              "      <td>41.000000</td>\n",
              "      <td>1.000000</td>\n",
              "    </tr>\n",
              "    <tr>\n",
              "      <th>max</th>\n",
              "      <td>17.000000</td>\n",
              "      <td>199.000000</td>\n",
              "      <td>122.000000</td>\n",
              "      <td>99.000000</td>\n",
              "      <td>846.000000</td>\n",
              "      <td>67.100000</td>\n",
              "      <td>2.420000</td>\n",
              "      <td>81.000000</td>\n",
              "      <td>1.000000</td>\n",
              "    </tr>\n",
              "  </tbody>\n",
              "</table>\n",
              "</div>\n",
              "      <button class=\"colab-df-convert\" onclick=\"convertToInteractive('df-605defae-8764-4dcf-b65b-a21d5b648222')\"\n",
              "              title=\"Convert this dataframe to an interactive table.\"\n",
              "              style=\"display:none;\">\n",
              "        \n",
              "  <svg xmlns=\"http://www.w3.org/2000/svg\" height=\"24px\"viewBox=\"0 0 24 24\"\n",
              "       width=\"24px\">\n",
              "    <path d=\"M0 0h24v24H0V0z\" fill=\"none\"/>\n",
              "    <path d=\"M18.56 5.44l.94 2.06.94-2.06 2.06-.94-2.06-.94-.94-2.06-.94 2.06-2.06.94zm-11 1L8.5 8.5l.94-2.06 2.06-.94-2.06-.94L8.5 2.5l-.94 2.06-2.06.94zm10 10l.94 2.06.94-2.06 2.06-.94-2.06-.94-.94-2.06-.94 2.06-2.06.94z\"/><path d=\"M17.41 7.96l-1.37-1.37c-.4-.4-.92-.59-1.43-.59-.52 0-1.04.2-1.43.59L10.3 9.45l-7.72 7.72c-.78.78-.78 2.05 0 2.83L4 21.41c.39.39.9.59 1.41.59.51 0 1.02-.2 1.41-.59l7.78-7.78 2.81-2.81c.8-.78.8-2.07 0-2.86zM5.41 20L4 18.59l7.72-7.72 1.47 1.35L5.41 20z\"/>\n",
              "  </svg>\n",
              "      </button>\n",
              "      \n",
              "  <style>\n",
              "    .colab-df-container {\n",
              "      display:flex;\n",
              "      flex-wrap:wrap;\n",
              "      gap: 12px;\n",
              "    }\n",
              "\n",
              "    .colab-df-convert {\n",
              "      background-color: #E8F0FE;\n",
              "      border: none;\n",
              "      border-radius: 50%;\n",
              "      cursor: pointer;\n",
              "      display: none;\n",
              "      fill: #1967D2;\n",
              "      height: 32px;\n",
              "      padding: 0 0 0 0;\n",
              "      width: 32px;\n",
              "    }\n",
              "\n",
              "    .colab-df-convert:hover {\n",
              "      background-color: #E2EBFA;\n",
              "      box-shadow: 0px 1px 2px rgba(60, 64, 67, 0.3), 0px 1px 3px 1px rgba(60, 64, 67, 0.15);\n",
              "      fill: #174EA6;\n",
              "    }\n",
              "\n",
              "    [theme=dark] .colab-df-convert {\n",
              "      background-color: #3B4455;\n",
              "      fill: #D2E3FC;\n",
              "    }\n",
              "\n",
              "    [theme=dark] .colab-df-convert:hover {\n",
              "      background-color: #434B5C;\n",
              "      box-shadow: 0px 1px 3px 1px rgba(0, 0, 0, 0.15);\n",
              "      filter: drop-shadow(0px 1px 2px rgba(0, 0, 0, 0.3));\n",
              "      fill: #FFFFFF;\n",
              "    }\n",
              "  </style>\n",
              "\n",
              "      <script>\n",
              "        const buttonEl =\n",
              "          document.querySelector('#df-605defae-8764-4dcf-b65b-a21d5b648222 button.colab-df-convert');\n",
              "        buttonEl.style.display =\n",
              "          google.colab.kernel.accessAllowed ? 'block' : 'none';\n",
              "\n",
              "        async function convertToInteractive(key) {\n",
              "          const element = document.querySelector('#df-605defae-8764-4dcf-b65b-a21d5b648222');\n",
              "          const dataTable =\n",
              "            await google.colab.kernel.invokeFunction('convertToInteractive',\n",
              "                                                     [key], {});\n",
              "          if (!dataTable) return;\n",
              "\n",
              "          const docLinkHtml = 'Like what you see? Visit the ' +\n",
              "            '<a target=\"_blank\" href=https://colab.research.google.com/notebooks/data_table.ipynb>data table notebook</a>'\n",
              "            + ' to learn more about interactive tables.';\n",
              "          element.innerHTML = '';\n",
              "          dataTable['output_type'] = 'display_data';\n",
              "          await google.colab.output.renderOutput(dataTable, element);\n",
              "          const docLink = document.createElement('div');\n",
              "          docLink.innerHTML = docLinkHtml;\n",
              "          element.appendChild(docLink);\n",
              "        }\n",
              "      </script>\n",
              "    </div>\n",
              "  </div>\n",
              "  "
            ]
          },
          "metadata": {},
          "execution_count": 56
        }
      ]
    },
    {
      "cell_type": "code",
      "source": [
        "data=data.astype('float')\n"
      ],
      "metadata": {
        "id": "rdrMPRGl4Mln"
      },
      "execution_count": 57,
      "outputs": []
    },
    {
      "cell_type": "code",
      "source": [
        "data.head()"
      ],
      "metadata": {
        "colab": {
          "base_uri": "https://localhost:8080/",
          "height": 206
        },
        "id": "7LMJMFPy5I0O",
        "outputId": "8223f35b-ef3e-43c8-e7ba-20cb1f7c4d9f"
      },
      "execution_count": 58,
      "outputs": [
        {
          "output_type": "execute_result",
          "data": {
            "text/plain": [
              "     0      1     2     3      4     5      6     7    8\n",
              "0  6.0  148.0  72.0  35.0    0.0  33.6  0.627  50.0  1.0\n",
              "1  1.0   85.0  66.0  29.0    0.0  26.6  0.351  31.0  0.0\n",
              "2  8.0  183.0  64.0   0.0    0.0  23.3  0.672  32.0  1.0\n",
              "3  1.0   89.0  66.0  23.0   94.0  28.1  0.167  21.0  0.0\n",
              "4  0.0  137.0  40.0  35.0  168.0  43.1  2.288  33.0  1.0"
            ],
            "text/html": [
              "\n",
              "  <div id=\"df-11e1d41c-c0f8-4e17-886f-61a3f99dea6f\">\n",
              "    <div class=\"colab-df-container\">\n",
              "      <div>\n",
              "<style scoped>\n",
              "    .dataframe tbody tr th:only-of-type {\n",
              "        vertical-align: middle;\n",
              "    }\n",
              "\n",
              "    .dataframe tbody tr th {\n",
              "        vertical-align: top;\n",
              "    }\n",
              "\n",
              "    .dataframe thead th {\n",
              "        text-align: right;\n",
              "    }\n",
              "</style>\n",
              "<table border=\"1\" class=\"dataframe\">\n",
              "  <thead>\n",
              "    <tr style=\"text-align: right;\">\n",
              "      <th></th>\n",
              "      <th>0</th>\n",
              "      <th>1</th>\n",
              "      <th>2</th>\n",
              "      <th>3</th>\n",
              "      <th>4</th>\n",
              "      <th>5</th>\n",
              "      <th>6</th>\n",
              "      <th>7</th>\n",
              "      <th>8</th>\n",
              "    </tr>\n",
              "  </thead>\n",
              "  <tbody>\n",
              "    <tr>\n",
              "      <th>0</th>\n",
              "      <td>6.0</td>\n",
              "      <td>148.0</td>\n",
              "      <td>72.0</td>\n",
              "      <td>35.0</td>\n",
              "      <td>0.0</td>\n",
              "      <td>33.6</td>\n",
              "      <td>0.627</td>\n",
              "      <td>50.0</td>\n",
              "      <td>1.0</td>\n",
              "    </tr>\n",
              "    <tr>\n",
              "      <th>1</th>\n",
              "      <td>1.0</td>\n",
              "      <td>85.0</td>\n",
              "      <td>66.0</td>\n",
              "      <td>29.0</td>\n",
              "      <td>0.0</td>\n",
              "      <td>26.6</td>\n",
              "      <td>0.351</td>\n",
              "      <td>31.0</td>\n",
              "      <td>0.0</td>\n",
              "    </tr>\n",
              "    <tr>\n",
              "      <th>2</th>\n",
              "      <td>8.0</td>\n",
              "      <td>183.0</td>\n",
              "      <td>64.0</td>\n",
              "      <td>0.0</td>\n",
              "      <td>0.0</td>\n",
              "      <td>23.3</td>\n",
              "      <td>0.672</td>\n",
              "      <td>32.0</td>\n",
              "      <td>1.0</td>\n",
              "    </tr>\n",
              "    <tr>\n",
              "      <th>3</th>\n",
              "      <td>1.0</td>\n",
              "      <td>89.0</td>\n",
              "      <td>66.0</td>\n",
              "      <td>23.0</td>\n",
              "      <td>94.0</td>\n",
              "      <td>28.1</td>\n",
              "      <td>0.167</td>\n",
              "      <td>21.0</td>\n",
              "      <td>0.0</td>\n",
              "    </tr>\n",
              "    <tr>\n",
              "      <th>4</th>\n",
              "      <td>0.0</td>\n",
              "      <td>137.0</td>\n",
              "      <td>40.0</td>\n",
              "      <td>35.0</td>\n",
              "      <td>168.0</td>\n",
              "      <td>43.1</td>\n",
              "      <td>2.288</td>\n",
              "      <td>33.0</td>\n",
              "      <td>1.0</td>\n",
              "    </tr>\n",
              "  </tbody>\n",
              "</table>\n",
              "</div>\n",
              "      <button class=\"colab-df-convert\" onclick=\"convertToInteractive('df-11e1d41c-c0f8-4e17-886f-61a3f99dea6f')\"\n",
              "              title=\"Convert this dataframe to an interactive table.\"\n",
              "              style=\"display:none;\">\n",
              "        \n",
              "  <svg xmlns=\"http://www.w3.org/2000/svg\" height=\"24px\"viewBox=\"0 0 24 24\"\n",
              "       width=\"24px\">\n",
              "    <path d=\"M0 0h24v24H0V0z\" fill=\"none\"/>\n",
              "    <path d=\"M18.56 5.44l.94 2.06.94-2.06 2.06-.94-2.06-.94-.94-2.06-.94 2.06-2.06.94zm-11 1L8.5 8.5l.94-2.06 2.06-.94-2.06-.94L8.5 2.5l-.94 2.06-2.06.94zm10 10l.94 2.06.94-2.06 2.06-.94-2.06-.94-.94-2.06-.94 2.06-2.06.94z\"/><path d=\"M17.41 7.96l-1.37-1.37c-.4-.4-.92-.59-1.43-.59-.52 0-1.04.2-1.43.59L10.3 9.45l-7.72 7.72c-.78.78-.78 2.05 0 2.83L4 21.41c.39.39.9.59 1.41.59.51 0 1.02-.2 1.41-.59l7.78-7.78 2.81-2.81c.8-.78.8-2.07 0-2.86zM5.41 20L4 18.59l7.72-7.72 1.47 1.35L5.41 20z\"/>\n",
              "  </svg>\n",
              "      </button>\n",
              "      \n",
              "  <style>\n",
              "    .colab-df-container {\n",
              "      display:flex;\n",
              "      flex-wrap:wrap;\n",
              "      gap: 12px;\n",
              "    }\n",
              "\n",
              "    .colab-df-convert {\n",
              "      background-color: #E8F0FE;\n",
              "      border: none;\n",
              "      border-radius: 50%;\n",
              "      cursor: pointer;\n",
              "      display: none;\n",
              "      fill: #1967D2;\n",
              "      height: 32px;\n",
              "      padding: 0 0 0 0;\n",
              "      width: 32px;\n",
              "    }\n",
              "\n",
              "    .colab-df-convert:hover {\n",
              "      background-color: #E2EBFA;\n",
              "      box-shadow: 0px 1px 2px rgba(60, 64, 67, 0.3), 0px 1px 3px 1px rgba(60, 64, 67, 0.15);\n",
              "      fill: #174EA6;\n",
              "    }\n",
              "\n",
              "    [theme=dark] .colab-df-convert {\n",
              "      background-color: #3B4455;\n",
              "      fill: #D2E3FC;\n",
              "    }\n",
              "\n",
              "    [theme=dark] .colab-df-convert:hover {\n",
              "      background-color: #434B5C;\n",
              "      box-shadow: 0px 1px 3px 1px rgba(0, 0, 0, 0.15);\n",
              "      filter: drop-shadow(0px 1px 2px rgba(0, 0, 0, 0.3));\n",
              "      fill: #FFFFFF;\n",
              "    }\n",
              "  </style>\n",
              "\n",
              "      <script>\n",
              "        const buttonEl =\n",
              "          document.querySelector('#df-11e1d41c-c0f8-4e17-886f-61a3f99dea6f button.colab-df-convert');\n",
              "        buttonEl.style.display =\n",
              "          google.colab.kernel.accessAllowed ? 'block' : 'none';\n",
              "\n",
              "        async function convertToInteractive(key) {\n",
              "          const element = document.querySelector('#df-11e1d41c-c0f8-4e17-886f-61a3f99dea6f');\n",
              "          const dataTable =\n",
              "            await google.colab.kernel.invokeFunction('convertToInteractive',\n",
              "                                                     [key], {});\n",
              "          if (!dataTable) return;\n",
              "\n",
              "          const docLinkHtml = 'Like what you see? Visit the ' +\n",
              "            '<a target=\"_blank\" href=https://colab.research.google.com/notebooks/data_table.ipynb>data table notebook</a>'\n",
              "            + ' to learn more about interactive tables.';\n",
              "          element.innerHTML = '';\n",
              "          dataTable['output_type'] = 'display_data';\n",
              "          await google.colab.output.renderOutput(dataTable, element);\n",
              "          const docLink = document.createElement('div');\n",
              "          docLink.innerHTML = docLinkHtml;\n",
              "          element.appendChild(docLink);\n",
              "        }\n",
              "      </script>\n",
              "    </div>\n",
              "  </div>\n",
              "  "
            ]
          },
          "metadata": {},
          "execution_count": 58
        }
      ]
    },
    {
      "cell_type": "code",
      "source": [
        "data=data.to_numpy()"
      ],
      "metadata": {
        "id": "tFpy6P0l5ZrW"
      },
      "execution_count": 59,
      "outputs": []
    },
    {
      "cell_type": "code",
      "source": [
        "data.shape"
      ],
      "metadata": {
        "colab": {
          "base_uri": "https://localhost:8080/"
        },
        "id": "hp3MzkxE5mnt",
        "outputId": "ea0e9d7d-8d94-40e3-c3c3-ac00921776fa"
      },
      "execution_count": 60,
      "outputs": [
        {
          "output_type": "execute_result",
          "data": {
            "text/plain": [
              "(768, 9)"
            ]
          },
          "metadata": {},
          "execution_count": 60
        }
      ]
    },
    {
      "cell_type": "code",
      "source": [
        "\n",
        "\n",
        "train = data[0:600]\n",
        "test = data[600:]\n"
      ],
      "metadata": {
        "id": "biasYCgW5pG9"
      },
      "execution_count": 61,
      "outputs": []
    },
    {
      "cell_type": "code",
      "source": [
        "train.shape"
      ],
      "metadata": {
        "colab": {
          "base_uri": "https://localhost:8080/"
        },
        "id": "tHf9WWF05sGV",
        "outputId": "b00adf0c-f59e-4b54-e603-aba78b102d00"
      },
      "execution_count": 62,
      "outputs": [
        {
          "output_type": "execute_result",
          "data": {
            "text/plain": [
              "(600, 9)"
            ]
          },
          "metadata": {},
          "execution_count": 62
        }
      ]
    },
    {
      "cell_type": "code",
      "source": [
        "\n",
        "test.shape"
      ],
      "metadata": {
        "colab": {
          "base_uri": "https://localhost:8080/"
        },
        "id": "-Np4nGi3501O",
        "outputId": "a71e54ed-92e9-4ee9-a907-304bd75c8919"
      },
      "execution_count": 63,
      "outputs": [
        {
          "output_type": "execute_result",
          "data": {
            "text/plain": [
              "(168, 9)"
            ]
          },
          "metadata": {},
          "execution_count": 63
        }
      ]
    },
    {
      "cell_type": "code",
      "source": [
        "\n",
        "train_feature = train[:,0:-1]\n",
        "train_label = train[:,-1]\n",
        "test_feature = test[:,0:-1]\n",
        "test_label = test[:,-1]"
      ],
      "metadata": {
        "id": "QayVCC4G53d1"
      },
      "execution_count": 64,
      "outputs": []
    },
    {
      "cell_type": "code",
      "source": [
        "train_feature.shape"
      ],
      "metadata": {
        "colab": {
          "base_uri": "https://localhost:8080/"
        },
        "id": "ajllA8KW557n",
        "outputId": "c891d4e1-9553-46d5-e719-80a7cffa55cb"
      },
      "execution_count": 65,
      "outputs": [
        {
          "output_type": "execute_result",
          "data": {
            "text/plain": [
              "(600, 8)"
            ]
          },
          "metadata": {},
          "execution_count": 65
        }
      ]
    },
    {
      "cell_type": "code",
      "source": [
        "train_feature.shape"
      ],
      "metadata": {
        "colab": {
          "base_uri": "https://localhost:8080/"
        },
        "id": "3JQ_Kd6K59FF",
        "outputId": "a566ed45-eb70-4c35-8d1b-c22525587a66"
      },
      "execution_count": null,
      "outputs": [
        {
          "output_type": "execute_result",
          "data": {
            "text/plain": [
              "(600, 8)"
            ]
          },
          "metadata": {},
          "execution_count": 41
        }
      ]
    },
    {
      "cell_type": "code",
      "source": [
        "\n",
        "train_feature[0].shape\n"
      ],
      "metadata": {
        "colab": {
          "base_uri": "https://localhost:8080/"
        },
        "id": "oOB-fwB85_y0",
        "outputId": "cd2dbcf2-469d-4e5a-8066-31076fd58e67"
      },
      "execution_count": null,
      "outputs": [
        {
          "output_type": "execute_result",
          "data": {
            "text/plain": [
              "(8,)"
            ]
          },
          "metadata": {},
          "execution_count": 42
        }
      ]
    },
    {
      "cell_type": "code",
      "source": [
        "from tensorflow.keras.models import Sequential\n",
        "from tensorflow.keras.layers import Input ,Dense, Dropout\n"
      ],
      "metadata": {
        "id": "9tGGW_vF6Cgk"
      },
      "execution_count": 66,
      "outputs": []
    },
    {
      "cell_type": "code",
      "source": [
        "\n",
        "model = Sequential()\n",
        "model.add(Input(shape=(8,)))\n",
        "model.add(Dense(1,activation='relu'))\n",
        "model.add(Dropout(0.2))\n",
        "model.add(Dense(128,activation='relu'))\n",
        "model.add(Dropout(0.2))\n",
        "model.add(Dense(64,activation='relu'))\n",
        "model.add(Dropout(0.2))\n",
        "model.add(Dense(1,activation='sigmoid'))"
      ],
      "metadata": {
        "id": "oaCo9J576E9m"
      },
      "execution_count": 67,
      "outputs": []
    },
    {
      "cell_type": "code",
      "source": [
        "\n",
        "model.compile(optimizer='sgd',loss='binary_crossentropy',metrics=['accuracy'])"
      ],
      "metadata": {
        "id": "pBQSw5kz6It0"
      },
      "execution_count": 68,
      "outputs": []
    },
    {
      "cell_type": "code",
      "source": [
        "history = model.fit(train_feature,train_label,epochs=100,validation_data=(test_feature,test_label)) "
      ],
      "metadata": {
        "colab": {
          "base_uri": "https://localhost:8080/"
        },
        "id": "7v9bhgPH6LXO",
        "outputId": "4ea40ed3-2e5d-4af9-f143-8a6ba2911f3b"
      },
      "execution_count": 69,
      "outputs": [
        {
          "output_type": "stream",
          "name": "stdout",
          "text": [
            "Epoch 1/100\n",
            "19/19 [==============================] - 2s 27ms/step - loss: 0.6943 - accuracy: 0.6433 - val_loss: 0.6822 - val_accuracy: 0.6429\n",
            "Epoch 2/100\n",
            "19/19 [==============================] - 0s 8ms/step - loss: 0.7056 - accuracy: 0.6483 - val_loss: 0.6769 - val_accuracy: 0.6429\n",
            "Epoch 3/100\n",
            "19/19 [==============================] - 0s 11ms/step - loss: 0.6911 - accuracy: 0.6383 - val_loss: 0.6749 - val_accuracy: 0.6429\n",
            "Epoch 4/100\n",
            "19/19 [==============================] - 0s 12ms/step - loss: 0.6868 - accuracy: 0.6467 - val_loss: 0.6693 - val_accuracy: 0.6429\n",
            "Epoch 5/100\n",
            "19/19 [==============================] - 0s 10ms/step - loss: 0.6744 - accuracy: 0.6483 - val_loss: 0.6657 - val_accuracy: 0.6429\n",
            "Epoch 6/100\n",
            "19/19 [==============================] - 0s 11ms/step - loss: 0.6725 - accuracy: 0.6433 - val_loss: 0.6630 - val_accuracy: 0.6429\n",
            "Epoch 7/100\n",
            "19/19 [==============================] - 0s 9ms/step - loss: 0.6636 - accuracy: 0.6533 - val_loss: 0.6611 - val_accuracy: 0.6429\n",
            "Epoch 8/100\n",
            "19/19 [==============================] - 0s 10ms/step - loss: 0.6644 - accuracy: 0.6533 - val_loss: 0.6596 - val_accuracy: 0.6429\n",
            "Epoch 9/100\n",
            "19/19 [==============================] - 0s 12ms/step - loss: 0.6590 - accuracy: 0.6483 - val_loss: 0.6584 - val_accuracy: 0.6429\n",
            "Epoch 10/100\n",
            "19/19 [==============================] - 0s 8ms/step - loss: 0.6562 - accuracy: 0.6517 - val_loss: 0.6570 - val_accuracy: 0.6429\n",
            "Epoch 11/100\n",
            "19/19 [==============================] - 0s 10ms/step - loss: 0.6541 - accuracy: 0.6500 - val_loss: 0.6560 - val_accuracy: 0.6429\n",
            "Epoch 12/100\n",
            "19/19 [==============================] - 0s 11ms/step - loss: 0.6522 - accuracy: 0.6533 - val_loss: 0.6552 - val_accuracy: 0.6429\n",
            "Epoch 13/100\n",
            "19/19 [==============================] - 0s 10ms/step - loss: 0.6527 - accuracy: 0.6533 - val_loss: 0.6544 - val_accuracy: 0.6429\n",
            "Epoch 14/100\n",
            "19/19 [==============================] - 0s 7ms/step - loss: 0.6467 - accuracy: 0.6567 - val_loss: 0.6540 - val_accuracy: 0.6429\n",
            "Epoch 15/100\n",
            "19/19 [==============================] - 0s 10ms/step - loss: 0.6477 - accuracy: 0.6550 - val_loss: 0.6537 - val_accuracy: 0.6429\n",
            "Epoch 16/100\n",
            "19/19 [==============================] - 0s 7ms/step - loss: 0.6496 - accuracy: 0.6550 - val_loss: 0.6534 - val_accuracy: 0.6429\n",
            "Epoch 17/100\n",
            "19/19 [==============================] - 0s 8ms/step - loss: 0.6556 - accuracy: 0.6517 - val_loss: 0.6530 - val_accuracy: 0.6429\n",
            "Epoch 18/100\n",
            "19/19 [==============================] - 0s 11ms/step - loss: 0.6521 - accuracy: 0.6500 - val_loss: 0.6527 - val_accuracy: 0.6429\n",
            "Epoch 19/100\n",
            "19/19 [==============================] - 0s 14ms/step - loss: 0.6480 - accuracy: 0.6533 - val_loss: 0.6524 - val_accuracy: 0.6429\n",
            "Epoch 20/100\n",
            "19/19 [==============================] - 0s 8ms/step - loss: 0.6481 - accuracy: 0.6533 - val_loss: 0.6524 - val_accuracy: 0.6429\n",
            "Epoch 21/100\n",
            "19/19 [==============================] - 0s 13ms/step - loss: 0.6414 - accuracy: 0.6583 - val_loss: 0.6524 - val_accuracy: 0.6429\n",
            "Epoch 22/100\n",
            "19/19 [==============================] - 0s 8ms/step - loss: 0.6449 - accuracy: 0.6550 - val_loss: 0.6522 - val_accuracy: 0.6429\n",
            "Epoch 23/100\n",
            "19/19 [==============================] - 0s 8ms/step - loss: 0.6462 - accuracy: 0.6500 - val_loss: 0.6521 - val_accuracy: 0.6429\n",
            "Epoch 24/100\n",
            "19/19 [==============================] - 0s 9ms/step - loss: 0.6496 - accuracy: 0.6517 - val_loss: 0.6521 - val_accuracy: 0.6429\n",
            "Epoch 25/100\n",
            "19/19 [==============================] - 0s 8ms/step - loss: 0.6450 - accuracy: 0.6533 - val_loss: 0.6521 - val_accuracy: 0.6429\n",
            "Epoch 26/100\n",
            "19/19 [==============================] - 0s 7ms/step - loss: 0.6455 - accuracy: 0.6533 - val_loss: 0.6521 - val_accuracy: 0.6429\n",
            "Epoch 27/100\n",
            "19/19 [==============================] - 0s 7ms/step - loss: 0.6525 - accuracy: 0.6500 - val_loss: 0.6520 - val_accuracy: 0.6429\n",
            "Epoch 28/100\n",
            "19/19 [==============================] - 0s 7ms/step - loss: 0.6455 - accuracy: 0.6567 - val_loss: 0.6519 - val_accuracy: 0.6429\n",
            "Epoch 29/100\n",
            "19/19 [==============================] - 0s 6ms/step - loss: 0.6413 - accuracy: 0.6567 - val_loss: 0.6519 - val_accuracy: 0.6429\n",
            "Epoch 30/100\n",
            "19/19 [==============================] - 0s 7ms/step - loss: 0.6466 - accuracy: 0.6500 - val_loss: 0.6519 - val_accuracy: 0.6429\n",
            "Epoch 31/100\n",
            "19/19 [==============================] - 0s 6ms/step - loss: 0.6442 - accuracy: 0.6567 - val_loss: 0.6520 - val_accuracy: 0.6429\n",
            "Epoch 32/100\n",
            "19/19 [==============================] - 0s 6ms/step - loss: 0.6493 - accuracy: 0.6467 - val_loss: 0.6519 - val_accuracy: 0.6429\n",
            "Epoch 33/100\n",
            "19/19 [==============================] - 0s 7ms/step - loss: 0.6474 - accuracy: 0.6500 - val_loss: 0.6518 - val_accuracy: 0.6429\n",
            "Epoch 34/100\n",
            "19/19 [==============================] - 0s 6ms/step - loss: 0.6429 - accuracy: 0.6550 - val_loss: 0.6519 - val_accuracy: 0.6429\n",
            "Epoch 35/100\n",
            "19/19 [==============================] - 0s 5ms/step - loss: 0.6463 - accuracy: 0.6533 - val_loss: 0.6519 - val_accuracy: 0.6429\n",
            "Epoch 36/100\n",
            "19/19 [==============================] - 0s 7ms/step - loss: 0.6452 - accuracy: 0.6550 - val_loss: 0.6519 - val_accuracy: 0.6429\n",
            "Epoch 37/100\n",
            "19/19 [==============================] - 0s 7ms/step - loss: 0.6441 - accuracy: 0.6550 - val_loss: 0.6519 - val_accuracy: 0.6429\n",
            "Epoch 38/100\n",
            "19/19 [==============================] - 0s 7ms/step - loss: 0.6480 - accuracy: 0.6533 - val_loss: 0.6519 - val_accuracy: 0.6429\n",
            "Epoch 39/100\n",
            "19/19 [==============================] - 0s 7ms/step - loss: 0.6491 - accuracy: 0.6500 - val_loss: 0.6519 - val_accuracy: 0.6429\n",
            "Epoch 40/100\n",
            "19/19 [==============================] - 0s 6ms/step - loss: 0.6483 - accuracy: 0.6500 - val_loss: 0.6519 - val_accuracy: 0.6429\n",
            "Epoch 41/100\n",
            "19/19 [==============================] - 0s 6ms/step - loss: 0.6444 - accuracy: 0.6533 - val_loss: 0.6519 - val_accuracy: 0.6429\n",
            "Epoch 42/100\n",
            "19/19 [==============================] - 0s 6ms/step - loss: 0.6443 - accuracy: 0.6550 - val_loss: 0.6519 - val_accuracy: 0.6429\n",
            "Epoch 43/100\n",
            "19/19 [==============================] - 0s 6ms/step - loss: 0.6479 - accuracy: 0.6500 - val_loss: 0.6519 - val_accuracy: 0.6429\n",
            "Epoch 44/100\n",
            "19/19 [==============================] - 0s 8ms/step - loss: 0.6455 - accuracy: 0.6533 - val_loss: 0.6519 - val_accuracy: 0.6429\n",
            "Epoch 45/100\n",
            "19/19 [==============================] - 0s 9ms/step - loss: 0.6495 - accuracy: 0.6517 - val_loss: 0.6519 - val_accuracy: 0.6429\n",
            "Epoch 46/100\n",
            "19/19 [==============================] - 0s 10ms/step - loss: 0.6468 - accuracy: 0.6533 - val_loss: 0.6519 - val_accuracy: 0.6429\n",
            "Epoch 47/100\n",
            "19/19 [==============================] - 0s 11ms/step - loss: 0.6431 - accuracy: 0.6583 - val_loss: 0.6519 - val_accuracy: 0.6429\n",
            "Epoch 48/100\n",
            "19/19 [==============================] - 0s 14ms/step - loss: 0.6440 - accuracy: 0.6533 - val_loss: 0.6519 - val_accuracy: 0.6429\n",
            "Epoch 49/100\n",
            "19/19 [==============================] - 0s 18ms/step - loss: 0.6451 - accuracy: 0.6533 - val_loss: 0.6520 - val_accuracy: 0.6429\n",
            "Epoch 50/100\n",
            "19/19 [==============================] - 1s 34ms/step - loss: 0.6458 - accuracy: 0.6550 - val_loss: 0.6519 - val_accuracy: 0.6429\n",
            "Epoch 51/100\n",
            "19/19 [==============================] - 1s 53ms/step - loss: 0.6459 - accuracy: 0.6550 - val_loss: 0.6520 - val_accuracy: 0.6429\n",
            "Epoch 52/100\n",
            "19/19 [==============================] - 1s 28ms/step - loss: 0.6446 - accuracy: 0.6583 - val_loss: 0.6519 - val_accuracy: 0.6429\n",
            "Epoch 53/100\n",
            "19/19 [==============================] - 1s 29ms/step - loss: 0.6413 - accuracy: 0.6550 - val_loss: 0.6520 - val_accuracy: 0.6429\n",
            "Epoch 54/100\n",
            "19/19 [==============================] - 0s 22ms/step - loss: 0.6452 - accuracy: 0.6517 - val_loss: 0.6520 - val_accuracy: 0.6429\n",
            "Epoch 55/100\n",
            "19/19 [==============================] - 0s 18ms/step - loss: 0.6456 - accuracy: 0.6533 - val_loss: 0.6520 - val_accuracy: 0.6429\n",
            "Epoch 56/100\n",
            "19/19 [==============================] - 0s 18ms/step - loss: 0.6461 - accuracy: 0.6517 - val_loss: 0.6520 - val_accuracy: 0.6429\n",
            "Epoch 57/100\n",
            "19/19 [==============================] - 0s 24ms/step - loss: 0.6440 - accuracy: 0.6567 - val_loss: 0.6520 - val_accuracy: 0.6429\n",
            "Epoch 58/100\n",
            "19/19 [==============================] - 0s 24ms/step - loss: 0.6431 - accuracy: 0.6550 - val_loss: 0.6520 - val_accuracy: 0.6429\n",
            "Epoch 59/100\n",
            "19/19 [==============================] - 1s 26ms/step - loss: 0.6468 - accuracy: 0.6500 - val_loss: 0.6520 - val_accuracy: 0.6429\n",
            "Epoch 60/100\n",
            "19/19 [==============================] - 1s 28ms/step - loss: 0.6481 - accuracy: 0.6550 - val_loss: 0.6520 - val_accuracy: 0.6429\n",
            "Epoch 61/100\n",
            "19/19 [==============================] - 0s 23ms/step - loss: 0.6429 - accuracy: 0.6567 - val_loss: 0.6520 - val_accuracy: 0.6429\n",
            "Epoch 62/100\n",
            "19/19 [==============================] - 0s 26ms/step - loss: 0.6454 - accuracy: 0.6533 - val_loss: 0.6520 - val_accuracy: 0.6429\n",
            "Epoch 63/100\n",
            "19/19 [==============================] - 1s 28ms/step - loss: 0.6442 - accuracy: 0.6533 - val_loss: 0.6520 - val_accuracy: 0.6429\n",
            "Epoch 64/100\n",
            "19/19 [==============================] - 0s 20ms/step - loss: 0.6446 - accuracy: 0.6550 - val_loss: 0.6520 - val_accuracy: 0.6429\n",
            "Epoch 65/100\n",
            "19/19 [==============================] - 0s 20ms/step - loss: 0.6443 - accuracy: 0.6550 - val_loss: 0.6520 - val_accuracy: 0.6429\n",
            "Epoch 66/100\n",
            "19/19 [==============================] - 0s 16ms/step - loss: 0.6433 - accuracy: 0.6550 - val_loss: 0.6520 - val_accuracy: 0.6429\n",
            "Epoch 67/100\n",
            "19/19 [==============================] - 0s 18ms/step - loss: 0.6438 - accuracy: 0.6550 - val_loss: 0.6520 - val_accuracy: 0.6429\n",
            "Epoch 68/100\n",
            "19/19 [==============================] - 0s 18ms/step - loss: 0.6447 - accuracy: 0.6567 - val_loss: 0.6520 - val_accuracy: 0.6429\n",
            "Epoch 69/100\n",
            "19/19 [==============================] - 0s 22ms/step - loss: 0.6460 - accuracy: 0.6517 - val_loss: 0.6520 - val_accuracy: 0.6429\n",
            "Epoch 70/100\n",
            "19/19 [==============================] - 0s 18ms/step - loss: 0.6454 - accuracy: 0.6533 - val_loss: 0.6520 - val_accuracy: 0.6429\n",
            "Epoch 71/100\n",
            "19/19 [==============================] - 0s 17ms/step - loss: 0.6450 - accuracy: 0.6517 - val_loss: 0.6520 - val_accuracy: 0.6429\n",
            "Epoch 72/100\n",
            "19/19 [==============================] - 0s 13ms/step - loss: 0.6430 - accuracy: 0.6567 - val_loss: 0.6520 - val_accuracy: 0.6429\n",
            "Epoch 73/100\n",
            "19/19 [==============================] - 0s 22ms/step - loss: 0.6440 - accuracy: 0.6533 - val_loss: 0.6521 - val_accuracy: 0.6429\n",
            "Epoch 74/100\n",
            "19/19 [==============================] - 0s 20ms/step - loss: 0.6423 - accuracy: 0.6567 - val_loss: 0.6521 - val_accuracy: 0.6429\n",
            "Epoch 75/100\n",
            "19/19 [==============================] - 0s 16ms/step - loss: 0.6424 - accuracy: 0.6567 - val_loss: 0.6521 - val_accuracy: 0.6429\n",
            "Epoch 76/100\n",
            "19/19 [==============================] - 0s 10ms/step - loss: 0.6446 - accuracy: 0.6550 - val_loss: 0.6521 - val_accuracy: 0.6429\n",
            "Epoch 77/100\n",
            "19/19 [==============================] - 0s 8ms/step - loss: 0.6483 - accuracy: 0.6500 - val_loss: 0.6521 - val_accuracy: 0.6429\n",
            "Epoch 78/100\n",
            "19/19 [==============================] - 0s 11ms/step - loss: 0.6451 - accuracy: 0.6533 - val_loss: 0.6521 - val_accuracy: 0.6429\n",
            "Epoch 79/100\n",
            "19/19 [==============================] - 0s 11ms/step - loss: 0.6461 - accuracy: 0.6517 - val_loss: 0.6521 - val_accuracy: 0.6429\n",
            "Epoch 80/100\n",
            "19/19 [==============================] - 0s 9ms/step - loss: 0.6439 - accuracy: 0.6550 - val_loss: 0.6521 - val_accuracy: 0.6429\n",
            "Epoch 81/100\n",
            "19/19 [==============================] - 0s 26ms/step - loss: 0.6431 - accuracy: 0.6567 - val_loss: 0.6521 - val_accuracy: 0.6429\n",
            "Epoch 82/100\n",
            "19/19 [==============================] - 1s 33ms/step - loss: 0.6419 - accuracy: 0.6567 - val_loss: 0.6521 - val_accuracy: 0.6429\n",
            "Epoch 83/100\n",
            "19/19 [==============================] - 1s 32ms/step - loss: 0.6454 - accuracy: 0.6533 - val_loss: 0.6521 - val_accuracy: 0.6429\n",
            "Epoch 84/100\n",
            "19/19 [==============================] - 0s 18ms/step - loss: 0.6446 - accuracy: 0.6550 - val_loss: 0.6521 - val_accuracy: 0.6429\n",
            "Epoch 85/100\n",
            "19/19 [==============================] - 0s 21ms/step - loss: 0.6462 - accuracy: 0.6533 - val_loss: 0.6521 - val_accuracy: 0.6429\n",
            "Epoch 86/100\n",
            "19/19 [==============================] - 1s 29ms/step - loss: 0.6433 - accuracy: 0.6567 - val_loss: 0.6521 - val_accuracy: 0.6429\n",
            "Epoch 87/100\n",
            "19/19 [==============================] - 1s 31ms/step - loss: 0.6451 - accuracy: 0.6517 - val_loss: 0.6521 - val_accuracy: 0.6429\n",
            "Epoch 88/100\n",
            "19/19 [==============================] - 1s 28ms/step - loss: 0.6424 - accuracy: 0.6567 - val_loss: 0.6521 - val_accuracy: 0.6429\n",
            "Epoch 89/100\n",
            "19/19 [==============================] - 0s 25ms/step - loss: 0.6442 - accuracy: 0.6533 - val_loss: 0.6521 - val_accuracy: 0.6429\n",
            "Epoch 90/100\n",
            "19/19 [==============================] - 0s 22ms/step - loss: 0.6455 - accuracy: 0.6517 - val_loss: 0.6521 - val_accuracy: 0.6429\n",
            "Epoch 91/100\n",
            "19/19 [==============================] - 0s 23ms/step - loss: 0.6429 - accuracy: 0.6550 - val_loss: 0.6521 - val_accuracy: 0.6429\n",
            "Epoch 92/100\n",
            "19/19 [==============================] - 1s 33ms/step - loss: 0.6456 - accuracy: 0.6517 - val_loss: 0.6521 - val_accuracy: 0.6429\n",
            "Epoch 93/100\n",
            "19/19 [==============================] - 1s 27ms/step - loss: 0.6447 - accuracy: 0.6550 - val_loss: 0.6521 - val_accuracy: 0.6429\n",
            "Epoch 94/100\n",
            "19/19 [==============================] - 1s 25ms/step - loss: 0.6450 - accuracy: 0.6533 - val_loss: 0.6521 - val_accuracy: 0.6429\n",
            "Epoch 95/100\n",
            "19/19 [==============================] - 0s 25ms/step - loss: 0.6426 - accuracy: 0.6567 - val_loss: 0.6521 - val_accuracy: 0.6429\n",
            "Epoch 96/100\n",
            "19/19 [==============================] - 0s 24ms/step - loss: 0.6432 - accuracy: 0.6550 - val_loss: 0.6521 - val_accuracy: 0.6429\n",
            "Epoch 97/100\n",
            "19/19 [==============================] - 1s 36ms/step - loss: 0.6440 - accuracy: 0.6567 - val_loss: 0.6521 - val_accuracy: 0.6429\n",
            "Epoch 98/100\n",
            "19/19 [==============================] - 0s 20ms/step - loss: 0.6439 - accuracy: 0.6567 - val_loss: 0.6521 - val_accuracy: 0.6429\n",
            "Epoch 99/100\n",
            "19/19 [==============================] - 0s 21ms/step - loss: 0.6441 - accuracy: 0.6567 - val_loss: 0.6520 - val_accuracy: 0.6429\n",
            "Epoch 100/100\n",
            "19/19 [==============================] - 0s 24ms/step - loss: 0.6447 - accuracy: 0.6550 - val_loss: 0.6520 - val_accuracy: 0.6429\n"
          ]
        }
      ]
    },
    {
      "cell_type": "code",
      "source": [
        "model.save(\"dia_save\", save_format=\"h5\")"
      ],
      "metadata": {
        "id": "aWRu3TSt6pks"
      },
      "execution_count": 70,
      "outputs": []
    },
    {
      "cell_type": "code",
      "source": [
        "import matplotlib.pyplot as plt\n",
        "acc=history.history['accuracy']\n",
        "val_acc=history.history['val_accuracy']\n",
        "loss=history.history['loss']\n",
        "val_loss=history.history['val_loss']\n",
        "epochs=range(len(acc))\n",
        "fig = plt.figure(figsize=(14,7))\n",
        "plt.plot(epochs, acc, 'r', label=\"Training Accuracy\")\n",
        "plt.plot(epochs, val_acc, 'b', label=\"Validation Accuracy\")\n",
        "plt.xlabel('Epoch')\n",
        "plt.ylabel('Accuracy')\n",
        "plt.title('Training and validation accuracy')\n",
        "plt.legend(loc='lower right')\n",
        "plt.show()\n"
      ],
      "metadata": {
        "colab": {
          "base_uri": "https://localhost:8080/",
          "height": 458
        },
        "id": "VbQq72xX6sSr",
        "outputId": "3d07ec16-fd5b-42f9-b63f-05dee8ffd9b2"
      },
      "execution_count": 71,
      "outputs": [
        {
          "output_type": "display_data",
          "data": {
            "text/plain": [
              "<Figure size 1008x504 with 1 Axes>"
            ],
            "image/png": "[encoded data removed]"
          },
          "metadata": {
            "needs_background": "light"
          }
        }
      ]
    },
    {
      "cell_type": "code",
      "source": [
        "fig2 = plt.figure(figsize=(14,7))\n",
        "plt.plot(epochs, loss, 'r', label=\"Training Loss\")\n",
        "plt.plot(epochs, val_loss, 'b', label=\"Validation Loss\")\n",
        "plt.legend(loc='upper right')\n",
        "plt.xlabel('Epoch')\n",
        "plt.ylabel('Loss')\n",
        "plt.title('Training and validation loss')"
      ],
      "metadata": {
        "colab": {
          "base_uri": "https://localhost:8080/",
          "height": 475
        },
        "id": "d42r3FVC6yHr",
        "outputId": "20c9be27-c53d-4c97-ce09-8f3803b0c0e4"
      },
      "execution_count": 72,
      "outputs": [
        {
          "output_type": "execute_result",
          "data": {
            "text/plain": [
              "Text(0.5, 1.0, 'Training and validation loss')"
            ]
          },
          "metadata": {},
          "execution_count": 72
        },
        {
          "output_type": "display_data",
          "data": {
            "text/plain": [
              "<Figure size 1008x504 with 1 Axes>"
            ],
            "image/png": "[encoded data removed]"
          },
          "metadata": {
            "needs_background": "light"
          }
        }
      ]
    }
  ],
  "metadata": {
    "colab": {
      "name": "Abdullah.ipynb",
      "provenance": [],
      "collapsed_sections": []
    },
    "kernelspec": {
      "display_name": "Python 3",
      "name": "python3"
    },
    "language_info": {
      "name": "python"
    }
  },
  "nbformat": 4,
  "nbformat_minor": 0
}